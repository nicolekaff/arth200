{
 "cells": [
  {
   "cell_type": "code",
   "execution_count": null,
   "id": "f29021a2",
   "metadata": {},
   "outputs": [],
   "source": [
    "import pandas as pd\n",
    "import sys"
   ]
  },
  {
   "cell_type": "code",
   "execution_count": null,
   "id": "064f84f4",
   "metadata": {},
   "outputs": [],
   "source": [
    "df = pd.read_excel(\"images.xlsx\")\n",
    "df= df.rename(columns=str.lower)\n",
    "df"
   ]
  },
  {
   "cell_type": "code",
   "execution_count": null,
   "id": "4977bf6e",
   "metadata": {},
   "outputs": [],
   "source": [
    "# Process architecture\n",
    "for i in df.index:\n",
    "    name = df.iloc[i]['Image']\n",
    "    prefix = name.split(\".\")[0]\n",
    "    if df.iloc[i]['Category'] == 'Architecture':\n",
    "        df.loc[i].to_json(\"{}.json\".format(prefix))"
   ]
  },
  {
   "cell_type": "code",
   "execution_count": null,
   "id": "5b5cb477",
   "metadata": {},
   "outputs": [],
   "source": [
    "# Process non-architecture\n",
    "for i in df.index:\n",
    "    name = df.iloc[i]['Image']\n",
    "    prefix = name.split(\".\")[0]\n",
    "    if df.iloc[i]['Category'] != 'Architecture':\n",
    "        df.loc[i].to_json(\"{}.json\".format(prefix))"
   ]
  },
  {
   "cell_type": "code",
   "execution_count": null,
   "id": "1066b732",
   "metadata": {},
   "outputs": [],
   "source": []
  }
 ],
 "metadata": {
  "kernelspec": {
   "display_name": "Python 3 (ipykernel)",
   "language": "python",
   "name": "python3"
  },
  "language_info": {
   "codemirror_mode": {
    "name": "ipython",
    "version": 3
   },
   "file_extension": ".py",
   "mimetype": "text/x-python",
   "name": "python",
   "nbconvert_exporter": "python",
   "pygments_lexer": "ipython3",
   "version": "3.8.13"
  }
 },
 "nbformat": 4,
 "nbformat_minor": 5
}
